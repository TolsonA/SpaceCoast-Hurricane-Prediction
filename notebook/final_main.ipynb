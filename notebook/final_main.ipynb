{
 "cells": [
  {
   "cell_type": "code",
   "execution_count": 1,
   "metadata": {},
   "outputs": [],
   "source": [
    "import pandas as pd\n",
    "import matplotlib.pyplot as plt\n",
    "import numpy as np\n",
    "import seaborn as sns\n",
    "import joblib\n",
    "import statsmodels.api as sm\n",
    "from sklearn.experimental import enable_iterative_imputer\n",
    "from sklearn.impute import IterativeImputer\n",
    "from sklearn.ensemble import RandomForestClassifier\n",
    "from sklearn.model_selection import train_test_split, cross_val_score, StratifiedKFold\n",
    "from sklearn.metrics import confusion_matrix, accuracy_score, precision_score, recall_score, f1_score\n",
    "\n",
    "# Define the file path\n",
    "file_path = '../data/hurdat2_1851_2023.txt'\n",
    "file_path1 = '../data/78073_Nassau_MSLP_18502004_v2.fts'\n",
    "file_path2 = '../data/72208_Charleston_MSLP_18502004_v2.fts'\n",
    "file_path3 = '../data/76644_Merida_MSLP_18502004_v2.fts'"
   ]
  },
  {
   "cell_type": "code",
   "execution_count": 2,
   "metadata": {},
   "outputs": [],
   "source": [
    "def convert_lat_lon(value):\n",
    "    \"\"\"Convert latitude and longitude values to float.\"\"\"\n",
    "    if 'N' in value or 'E' in value:\n",
    "        return float(value[:-1])\n",
    "    elif 'S' in value or 'W' in value:\n",
    "        return -float(value[:-1])\n",
    "\n",
    "def read_cyclone_file(file_path):\n",
    "    \"\"\"Read cyclone data from a file and organize it into a list of cyclones.\"\"\"\n",
    "    cyclone_data = []\n",
    "    current_cyclone = None\n",
    "\n",
    "    with open(file_path, 'r') as file:\n",
    "        for line in file:\n",
    "            if line.startswith('AL'):\n",
    "                if current_cyclone is not None:\n",
    "                    cyclone_data.append(current_cyclone)\n",
    "                current_cyclone = {'header': line.strip(), 'data': []}\n",
    "            else:\n",
    "                if current_cyclone is not None:\n",
    "                    current_cyclone['data'].append(line.strip().split(','))\n",
    "\n",
    "    if current_cyclone is not None:\n",
    "        cyclone_data.append(current_cyclone)\n",
    "    \n",
    "    return cyclone_data\n",
    "\n",
    "def process_cyclone_data(cyclone_data):\n",
    "    \"\"\"Process cyclone data into a list of DataFrames.\"\"\"\n",
    "    all_cyclone_dfs = []\n",
    "\n",
    "    for cyclone in cyclone_data:\n",
    "        df = pd.DataFrame(cyclone['data'], columns=['Date', 'Time', 'Record', 'Status', 'Latitude', 'Longitude', 'WindSpeed', 'Pressure',\n",
    "                                                    'Rad_34_NE', 'Rad_34_SE', 'Rad_34_SW', 'Rad_34_NW', 'Rad_50_NE', 'Rad_50_SE',\n",
    "                                                    'Rad_50_SW', 'Rad_50_NW', 'Rad_64_NE', 'Rad_64_SE', 'Rad_64_SW', 'Rad_64_NW', 'maxwnd'])\n",
    "        # Convert data types where necessary\n",
    "        df['Date'] = df['Date'].astype(str)\n",
    "        df['Time'] = df['Time'].astype(str)\n",
    "        df['Latitude'] = df['Latitude'].apply(convert_lat_lon)\n",
    "        df['Longitude'] = df['Longitude'].apply(convert_lat_lon)\n",
    "        df['WindSpeed'] = df['WindSpeed'].astype(int)\n",
    "        df['Pressure'] = df['Pressure'].astype(int)\n",
    "        df['Datetime'] = pd.to_datetime(df['Date'] + ' ' + df['Time'], format='%Y%m%d %H%M')\n",
    "        df.set_index('Datetime', inplace=True)\n",
    "        df['Cyclone'] = cyclone['header']  # Add a column for the cyclone identifier\n",
    "        all_cyclone_dfs.append(df)\n",
    "    \n",
    "    return all_cyclone_dfs\n",
    "\n",
    "def concatenate_cyclone_data(all_cyclone_dfs):\n",
    "    \"\"\"Concatenate all cyclone DataFrames into a single DataFrame.\"\"\"\n",
    "    return pd.concat(all_cyclone_dfs)\n",
    "\n",
    "def filter_and_process_data(df, min_lat, max_lat, min_lon, max_lon):\n",
    "    \"\"\"Filter data by lat/lon, assign status priority, and extract year.\"\"\"\n",
    "    # Filter the data\n",
    "    \n",
    "    df = df[(df['Latitude'] >= min_lat) & (df['Latitude'] <= max_lat) &\n",
    "                       (df['Longitude'] >= min_lon) & (df['Longitude'] <= max_lon)]\n",
    "    \n",
    "    filtered_data = df.copy()\n",
    "    \n",
    "    # Assign status priority\n",
    "    priority_order = {'HU': 1, 'TS': 2, 'TD': 3}\n",
    "    filtered_data['StatusPriority'] = filtered_data['Status'].map(priority_order).fillna(4)\n",
    "    \n",
    "    # Extract the year from the Datetime index\n",
    "    filtered_data['Year'] = filtered_data.index.year\n",
    "    \n",
    "    return filtered_data\n",
    "\n",
    "min_lat, max_lat = 27.5, 29.4\n",
    "min_lon, max_lon = -81.5, -78.8\n",
    "\n",
    "# Usage example\n",
    "cyclone_data = read_cyclone_file(file_path)\n",
    "all_cyclone_dfs = process_cyclone_data(cyclone_data)\n",
    "all_data = concatenate_cyclone_data(all_cyclone_dfs)\n",
    "filtered_data = filter_and_process_data(all_data, min_lat, max_lat, min_lon, max_lon)\n",
    "\n",
    "\n"
   ]
  },
  {
   "cell_type": "code",
   "execution_count": 3,
   "metadata": {},
   "outputs": [],
   "source": [
    "# # Initialize variables\n",
    "# cyclone_data = []\n",
    "# current_cyclone = None\n",
    "\n",
    "# # Function to convert latitude and longitude to float\n",
    "# def convert_lat_lon(value):\n",
    "#     if 'N' in value or 'E' in value:\n",
    "#         return float(value[:-1])\n",
    "#     elif 'S' in value or 'W' in value:\n",
    "#         return -float(value[:-1])\n",
    "\n",
    "# # Read the file line by line\n",
    "# with open(file_path, 'r') as file:\n",
    "#     for line in file:\n",
    "#         # Check if the line starts with 'AL' indicating a new cyclone\n",
    "#         if line.startswith('AL'):\n",
    "#             if current_cyclone is not None:\n",
    "#                 cyclone_data.append(current_cyclone)\n",
    "#             current_cyclone = {'header': line.strip(), 'data': []}\n",
    "#         else:\n",
    "#             if current_cyclone is not None:\n",
    "#                 current_cyclone['data'].append(line.strip().split(','))\n",
    "\n",
    "# # Append the last cyclone\n",
    "# if current_cyclone is not None:\n",
    "#     cyclone_data.append(current_cyclone)\n",
    "\n",
    "# # Process each cyclone's data\n",
    "# all_cyclone_dfs = []\n",
    "# for cyclone in cyclone_data:\n",
    "#     df = pd.DataFrame(cyclone['data'], columns=['Date', 'Time', 'Record', 'Status', 'Latitude', 'Longitude', 'WindSpeed', 'Pressure',\n",
    "#                                                 'Rad_34_NE', 'Rad_34_SE', 'Rad_34_SW', 'Rad_34_NW', 'Rad_50_NE', 'Rad_50_SE',\n",
    "#                                                 'Rad_50_SW', 'Rad_50_NW', 'Rad_64_NE', 'Rad_64_SE', 'Rad_64_SW', 'Rad_64_NW', 'maxwnd'])\n",
    "#     # Convert data types where necessary\n",
    "#     df['Date'] = df['Date'].astype(str)\n",
    "#     df['Time'] = df['Time'].astype(str)\n",
    "#     df['Latitude'] = df['Latitude'].apply(convert_lat_lon)\n",
    "#     df['Longitude'] = df['Longitude'].apply(convert_lat_lon)\n",
    "#     df['WindSpeed'] = df['WindSpeed'].astype(int)\n",
    "#     df['Pressure'] = df['Pressure'].astype(int)\n",
    "#     df['Datetime'] = pd.to_datetime(df['Date'] + ' ' + df['Time'], format='%Y%m%d %H%M')\n",
    "#     df.set_index('Datetime', inplace=True)\n",
    "#     df['Cyclone'] = cyclone['header']  # Add a column for the cyclone identifier\n",
    "#     all_cyclone_dfs.append(df)\n",
    "\n",
    "# # Concatenate all cyclone dataframes into a single dataframe\n",
    "# all_data = pd.concat(all_cyclone_dfs)\n",
    "\n",
    "# # Move the Cyclone column to the first position\n",
    "# columns = ['Cyclone'] + [col for col in all_data.columns if col != 'Cyclone']\n",
    "# all_data = all_data[columns]\n",
    "\n",
    "# # Define the latitude and longitude range for filtering\n",
    "# min_lat, max_lat = 27.5, 29.4\n",
    "# min_lon, max_lon = -81.5, -78.8\n",
    "\n",
    "# # Filter the data based on the specified latitude and longitude range\n",
    "# filtered_data = all_data[(all_data['Latitude'] >= min_lat) & (all_data['Latitude'] <= max_lat) &\n",
    "#                          (all_data['Longitude'] >= min_lon) & (all_data['Longitude'] <= max_lon)]\n",
    "\n",
    "# # Define the priority order for statuses\n",
    "# priority_order = {'HU': 1, 'TS': 2, 'TD': 3}\n",
    "# filtered_data['StatusPriority'] = filtered_data['Status'].map(priority_order).fillna(4)\n",
    "\n",
    "# # Extract the year from the Datetime column\n",
    "# filtered_data['Year'] = filtered_data.index.year\n",
    "\n",
    "# Group by year and count unique cyclones\n",
    "#cyclones_per_year = filtered_data.groupby('Year')['Cyclone'].nunique()"
   ]
  },
  {
   "cell_type": "code",
   "execution_count": 4,
   "metadata": {},
   "outputs": [],
   "source": [
    "def analyze_hurricanes(filtered_data):\n",
    "    \"\"\"Analyze hurricane data to get trends and binary indicators.\"\"\"\n",
    "    only_hurricane = filtered_data.copy()\n",
    "    only_hurricane['Status'] = only_hurricane['Status'].astype(str).str.strip()\n",
    "    only_hurricane = only_hurricane[only_hurricane['Status'] == 'HU']\n",
    "\n",
    "    # Calculate hurricane trends\n",
    "    hu_trend = only_hurricane.groupby('Year')['Cyclone'].nunique()\n",
    "    all_years = pd.Series(0, index=np.arange(filtered_data['Year'].min(), \n",
    "                                             filtered_data['Year'].max() + 1))\n",
    "    hu_trend = hu_trend.reindex(all_years.index, fill_value=0)\n",
    "    hu_trend = pd.DataFrame(hu_trend)\n",
    "    hu_trend.rename(columns={'Cyclone': 'Hurricanes'}, inplace=True)\n",
    "    hu_trend.index.name = 'Year'\n",
    "\n",
    "    # Create binary hurricane data\n",
    "    hu_binary = hu_trend.copy()\n",
    "    hu_binary['Hurricanes'] = hu_binary['Hurricanes'].apply(lambda x: 1 if x > 0 else 0)\n",
    "    \n",
    "    return hu_trend, hu_binary\n",
    "\n",
    "# Analyze hurricanes\n",
    "hu_trend, hu_binary = analyze_hurricanes(filtered_data)"
   ]
  },
  {
   "cell_type": "code",
   "execution_count": 5,
   "metadata": {},
   "outputs": [],
   "source": [
    "# only_huricane = filtered_data.copy()\n",
    "# only_huricane['Status'] = only_huricane['Status'].astype(str)\n",
    "# only_huricane['Status'] = only_huricane['Status'].str.strip()\n",
    "# only_huricane = only_huricane[only_huricane['Status'] == 'HU']"
   ]
  },
  {
   "cell_type": "code",
   "execution_count": 6,
   "metadata": {},
   "outputs": [],
   "source": [
    "# hu_trend = only_huricane.groupby('Year')['Cyclone'].nunique()\n",
    "# all_years = pd.Series(0, index=np.arange(filtered_data['Year'].min(), \n",
    "#                                          filtered_data['Year'].max() + 1))\n",
    "# hu_trend = hu_trend.reindex(all_years.index, fill_value=0)\n",
    "# hu_trend = pd.DataFrame(hu_trend)\n",
    "# hu_trend.rename(columns={'Cyclone': 'Hurricanes'}, inplace=True)\n",
    "# hu_trend.index.name = 'Year'"
   ]
  },
  {
   "cell_type": "markdown",
   "metadata": {},
   "source": [
    "Dump this hu_trend file for trend line charts extending back to 1856."
   ]
  },
  {
   "cell_type": "code",
   "execution_count": 7,
   "metadata": {},
   "outputs": [],
   "source": [
    "# hu_binary = hu_trend.copy()\n",
    "# hu_binary['Hurricanes'] = hu_binary['Hurricanes'].apply(lambda x: 1 if x > 0 else 0)"
   ]
  },
  {
   "cell_type": "code",
   "execution_count": 8,
   "metadata": {},
   "outputs": [],
   "source": [
    "# For the sea level pressure stations. \n",
    "# columns = ['Year', 'Jan', 'Feb', 'Mar', 'Apr', 'May', 'Jun', \n",
    "#            'Jul', 'Aug', 'Sep', 'Oct', 'Nov', 'Dec', 'Annual']\n",
    "# drop_columns = ['Jan', 'Feb', 'Mar', 'Apr', 'May', \n",
    "#                                 'Jun', 'Jul', 'Nov', 'Dec']"
   ]
  },
  {
   "cell_type": "code",
   "execution_count": 9,
   "metadata": {},
   "outputs": [],
   "source": [
    "def process_slp_data(file_path, columns, drop_columns, months, replace_value, rename_column):\n",
    "    \"\"\"Process the data from reading to preparation for merge.\"\"\"\n",
    "    # Read and initial processing\n",
    "    data = pd.read_csv(file_path, delim_whitespace=True, names=columns)\n",
    "    data = data[1:].drop(columns=drop_columns)\n",
    "    \n",
    "    # Convert specified columns to float\n",
    "    data[months[-2:]] = data[months[-2:]].astype(float)\n",
    "    \n",
    "    # Replace specified values and forward fill missing data\n",
    "    data.replace(replace_value, pd.NA, inplace=True)\n",
    "    data.ffill(inplace=True)\n",
    "    \n",
    "    # Calculate annual values\n",
    "    data['Annual'] = data[months].mean(axis=1) - data[months].mean(axis=1).mean()\n",
    "    \n",
    "    # Prepare for merging\n",
    "    data_copy = data.copy()\n",
    "    data_copy['Year'] = data_copy['Year'].astype(int)\n",
    "    data_copy = data_copy[['Year', 'Annual']]\n",
    "    data_copy.set_index('Year', inplace=True)\n",
    "    data_copy.rename(columns={'Annual': rename_column}, inplace=True)\n",
    "    \n",
    "    return data_copy\n",
    "\n",
    "columns = ['Year', 'Jan', 'Feb', 'Mar', 'Apr', 'May', 'Jun', \n",
    "           'Jul', 'Aug', 'Sep', 'Oct', 'Nov', 'Dec', 'Annual']\n",
    "drop_columns_list = ['Jan', 'Feb', 'Mar', 'Apr', 'May', \n",
    "                                'Jun', 'Jul', 'Nov', 'Dec']\n",
    "months = ['Aug', 'Sep', 'Oct']\n",
    "replace_value = -999.9\n",
    "\n",
    "meridia_mean = process_slp_data(file_path3, columns, drop_columns_list, months, replace_value, 'Meridia_slp')\n",
    "charleston_mean = process_slp_data(file_path2, columns, drop_columns_list, months, replace_value, 'Charleston_slp')\n",
    "nassau_mean = process_slp_data(file_path1, columns, drop_columns_list, months, replace_value, 'Nassau_slp')"
   ]
  },
  {
   "cell_type": "code",
   "execution_count": 12,
   "metadata": {},
   "outputs": [],
   "source": [
    "# meridia = pd.read_csv(file_path3, delim_whitespace=True, names=columns)\n",
    "# meridia = meridia[1:]\n",
    "# meridia = meridia.drop(columns=drop_columns_list)\n",
    "# meridia[['Sep', 'Oct']] = meridia[['Sep', 'Oct']].astype(float)\n",
    "# meridia.replace(-999.9, pd.NA, inplace=True)\n",
    "# meridia = meridia.ffill()\n",
    "# meridia['Annual'] = meridia[['Aug', 'Sep', 'Oct']].mean(axis=1) - meridia[['Aug', 'Sep', 'Oct']].mean(axis=1).mean()\n",
    "# # Make a copy below to merge into df.\n",
    "# meridia_mean = meridia.copy()\n",
    "# meridia_mean['Year'] = meridia_mean['Year'].astype(int)\n",
    "# meridia_mean = meridia_mean[['Year', 'Annual']]\n",
    "# meridia_mean.set_index('Year', inplace=True)\n",
    "# meridia_mean.rename(columns={'Annual': 'Meridia_slp'}, inplace=True)"
   ]
  },
  {
   "cell_type": "code",
   "execution_count": 19,
   "metadata": {},
   "outputs": [],
   "source": [
    "# charleston = pd.read_csv(file_path2, delim_whitespace=True, names=columns)\n",
    "# charleston = charleston[1:]\n",
    "# charleston = charleston.drop(columns=drop_columns_list)\n",
    "# charleston[['Sep', 'Oct']] = charleston[['Sep', 'Oct']].astype(float)\n",
    "# charleston.replace(-999.9, pd.NA, inplace=True)\n",
    "# charleston = charleston.ffill()\n",
    "# charleston['Annual'] = charleston[['Aug', 'Sep', 'Oct']].mean(axis=1) - charleston[['Aug', 'Sep', 'Oct']].mean(axis=1).mean()\n",
    "\n",
    "# charleston_mean = charleston.copy()\n",
    "# charleston_mean['Year'] = charleston_mean['Year'].astype(int)\n",
    "# charleston_mean = charleston_mean[['Year', 'Annual']]\n",
    "# charleston_mean.set_index('Year', inplace=True)\n",
    "# charleston_mean.rename(columns={'Annual': 'Charleston_slp'}, inplace=True)"
   ]
  },
  {
   "cell_type": "code",
   "execution_count": 21,
   "metadata": {},
   "outputs": [],
   "source": [
    "# nassau = pd.read_csv(file_path1, delim_whitespace=True, names=columns)\n",
    "# nassau = nassau[1:]\n",
    "# nassau = nassau.drop(columns=drop_columns_list)\n",
    "# nassau[['Sep', 'Oct']] = nassau[['Sep', 'Oct']].astype(float)\n",
    "# nassau.replace(-999.9, pd.NA, inplace=True)\n",
    "# nassau = nassau.ffill()\n",
    "# nassau['Annual'] = nassau[['Aug', 'Sep', 'Oct']].mean(axis=1) - nassau[['Aug', 'Sep', 'Oct']].mean(axis=1).mean()\n",
    "\n",
    "# nassau_mean = nassau.copy()\n",
    "# nassau_mean['Year'] = nassau_mean['Year'].astype(int)\n",
    "# nassau_mean = nassau_mean[['Year', 'Annual']]\n",
    "# nassau_mean.set_index('Year', inplace=True)\n",
    "# nassau_mean.rename(columns={'Annual': 'Nassau_slp'}, inplace=True)"
   ]
  },
  {
   "cell_type": "code",
   "execution_count": 555,
   "metadata": {},
   "outputs": [],
   "source": [
    "amo_long_tmp = pd.read_csv('../data/amo_sst.txt', delim_whitespace=True,\n",
    "                           names=columns)\n",
    "amo_long_tmp = amo_long_tmp.drop(columns=['Jan', 'Feb', 'Mar', 'Apr', 'May', 'Nov', 'Dec'])\n",
    "amo_long_tmp['Annual'] = np.mean(amo_long_tmp.loc[:, 'Jun':'Oct'].values, axis=1)\n",
    "amo_long_tmp = amo_long_tmp[['Year', 'Annual']]\n",
    "amo_long_tmp.rename(columns={'Annual': 'AMO_Anomaly'}, inplace=True)\n",
    "amo_long_tmp.set_index('Year', inplace=True)"
   ]
  },
  {
   "cell_type": "markdown",
   "metadata": {},
   "source": [
    "Uploading these files to help with the imputer. "
   ]
  },
  {
   "cell_type": "code",
   "execution_count": 556,
   "metadata": {},
   "outputs": [],
   "source": [
    "tna_sst = pd.read_csv('../data/TNA_sst.txt', delim_whitespace=True, index_col='Year')\n",
    "amm_sst = pd.read_csv('../data/AMM_sst.txt', delim_whitespace=True, index_col='Year')\n",
    "rh_value = pd.read_csv('../data/rh_mdr.txt', delim_whitespace=True, index_col='Year')"
   ]
  },
  {
   "cell_type": "markdown",
   "metadata": {},
   "source": [
    "hu_binary_amo_df - used for first AMO Model. This file can be dumped into data."
   ]
  },
  {
   "cell_type": "code",
   "execution_count": 557,
   "metadata": {},
   "outputs": [],
   "source": [
    "hu_binary_amo_df = hu_binary.merge(amo_long_tmp, on='Year')\n",
    "hu_amo_df = hu_trend.merge(amo_long_tmp, on='Year')"
   ]
  },
  {
   "cell_type": "markdown",
   "metadata": {},
   "source": [
    "Imputer used to get the SLP values from 2005-2022 for the three stations. "
   ]
  },
  {
   "cell_type": "code",
   "execution_count": 558,
   "metadata": {},
   "outputs": [],
   "source": [
    "slp_df = amo_long_tmp.join([nassau_mean, charleston_mean, meridia_mean, tna_sst, amm_sst, rh_value], how='left')\n",
    "df_imputer = slp_df[94:]\n",
    "mice_imputer = IterativeImputer(random_state=42)\n",
    "df_imputer = pd.DataFrame(mice_imputer.fit_transform(df_imputer), columns=df_imputer.columns)\n",
    "df_imputer = pd.DataFrame(mice_imputer.transform(df_imputer), columns=df_imputer.columns)\n",
    "df_imputer = df_imputer[['Nassau_slp', 'Charleston_slp', 'Meridia_slp']]\n",
    "imputed_slp = df_imputer[-18:]\n",
    "imputed_slp = imputed_slp.set_index(slp_df.index[-18:])"
   ]
  },
  {
   "cell_type": "code",
   "execution_count": 559,
   "metadata": {},
   "outputs": [],
   "source": [
    "# Adding the imputed numbers to the sea level pressure stations. \n",
    "only_slp_stations = nassau_mean.join([charleston_mean, meridia_mean], how='left')\n",
    "only_slp_stations = pd.concat([only_slp_stations, imputed_slp])"
   ]
  },
  {
   "cell_type": "code",
   "execution_count": 560,
   "metadata": {},
   "outputs": [],
   "source": [
    "# Combining the SLP stations and binary hurricanes for the second model\n",
    "hu_slp_df = only_slp_stations.merge(hu_binary, on='Year')"
   ]
  },
  {
   "cell_type": "markdown",
   "metadata": {},
   "source": [
    "Dump the 3 dataframes for model and chart processing. "
   ]
  },
  {
   "cell_type": "code",
   "execution_count": 534,
   "metadata": {},
   "outputs": [],
   "source": [
    "# joblib.dump(hu_binary_amo_df, '../joblib_files/hu_binary_amo_df.joblib')\n",
    "# joblib.dump(hu_slp_df, '../joblib_files/hurricane_slp_df.joblib')\n",
    "# joblib.dump(hu_amo_df, '../joblib_files/hu_amo_original.joblib')"
   ]
  },
  {
   "cell_type": "code",
   "execution_count": 561,
   "metadata": {},
   "outputs": [
    {
     "name": "stdout",
     "output_type": "stream",
     "text": [
      "Optimization terminated successfully.\n",
      "         Current function value: 0.449459\n",
      "         Iterations 6\n",
      "                           Logit Regression Results                           \n",
      "==============================================================================\n",
      "Dep. Variable:             Hurricanes   No. Observations:                  167\n",
      "Model:                          Logit   Df Residuals:                      165\n",
      "Method:                           MLE   Df Model:                            1\n",
      "Date:                Wed, 07 Aug 2024   Pseudo R-squ.:                 0.04543\n",
      "Time:                        18:37:54   Log-Likelihood:                -75.060\n",
      "converged:                       True   LL-Null:                       -78.632\n",
      "Covariance Type:            nonrobust   LLR p-value:                  0.007522\n",
      "===============================================================================\n",
      "                  coef    std err          z      P>|z|      [0.025      0.975]\n",
      "-------------------------------------------------------------------------------\n",
      "const          -1.6899      0.231     -7.331      0.000      -2.142      -1.238\n",
      "AMO_Anomaly     2.6650      1.043      2.556      0.011       0.621       4.708\n",
      "===============================================================================\n"
     ]
    },
    {
     "data": {
      "image/png": "[encoded data removed]",
      "text/plain": [
       "<Figure size 1000x600 with 1 Axes>"
      ]
     },
     "metadata": {},
     "output_type": "display_data"
    }
   ],
   "source": [
    "# Prepare the data for logistic regression\n",
    "X = hu_binary_amo_df['AMO_Anomaly']\n",
    "y = hu_binary_amo_df['Hurricanes']\n",
    "\n",
    "# Add a constant to the independent variables matrix\n",
    "X = sm.add_constant(X)\n",
    "\n",
    "# Fit the logistic regression model\n",
    "logit_model = sm.Logit(y, X).fit()\n",
    "\n",
    "# Print the summary of the model\n",
    "print(logit_model.summary())\n",
    "\n",
    "# Extract predictions\n",
    "predictions = logit_model.predict(X)\n",
    "\n",
    "# Visualizations\n",
    "plt.figure(figsize=(10, 6))\n",
    "sns.scatterplot(x='AMO_Anomaly', y='Hurricanes', data=hu_binary_amo_df, label='Hurricanes', alpha=0.5)\n",
    "sns.lineplot(x=hu_binary_amo_df['AMO_Anomaly'], y=predictions, color='red', label='Logistic Regression Line')\n",
    "plt.axvline(x=0, color='black', linestyle='--', linewidth=1, label='0-deg Line')\n",
    "plt.xlabel('AMO Anomaly')\n",
    "plt.ylabel('Hurricane Yes/No')\n",
    "plt.title('Logistic Regression of Hurricanes/AMO Anomaly')\n",
    "plt.legend(loc='center left')\n",
    "plt.show()"
   ]
  },
  {
   "cell_type": "code",
   "execution_count": 536,
   "metadata": {},
   "outputs": [],
   "source": [
    "#joblib.dump(logit_model, '../models/initial_regression_model.joblib')"
   ]
  },
  {
   "cell_type": "code",
   "execution_count": 562,
   "metadata": {},
   "outputs": [
    {
     "data": {
      "text/html": [
       "<div>\n",
       "<style scoped>\n",
       "    .dataframe tbody tr th:only-of-type {\n",
       "        vertical-align: middle;\n",
       "    }\n",
       "\n",
       "    .dataframe tbody tr th {\n",
       "        vertical-align: top;\n",
       "    }\n",
       "\n",
       "    .dataframe thead th {\n",
       "        text-align: right;\n",
       "    }\n",
       "</style>\n",
       "<table border=\"1\" class=\"dataframe\">\n",
       "  <thead>\n",
       "    <tr style=\"text-align: right;\">\n",
       "      <th></th>\n",
       "      <th>Nassau_slp</th>\n",
       "      <th>Charleston_slp</th>\n",
       "      <th>Meridia_slp</th>\n",
       "      <th>Hurricanes</th>\n",
       "      <th>AMO_Anomaly</th>\n",
       "    </tr>\n",
       "  </thead>\n",
       "  <tbody>\n",
       "    <tr>\n",
       "      <th>count</th>\n",
       "      <td>167.000000</td>\n",
       "      <td>167.000000</td>\n",
       "      <td>167.000000</td>\n",
       "      <td>167.000000</td>\n",
       "      <td>167.000000</td>\n",
       "    </tr>\n",
       "    <tr>\n",
       "      <th>mean</th>\n",
       "      <td>-0.016699</td>\n",
       "      <td>-0.092301</td>\n",
       "      <td>-0.030850</td>\n",
       "      <td>0.179641</td>\n",
       "      <td>0.026807</td>\n",
       "    </tr>\n",
       "    <tr>\n",
       "      <th>std</th>\n",
       "      <td>0.765253</td>\n",
       "      <td>0.791345</td>\n",
       "      <td>0.883350</td>\n",
       "      <td>0.385042</td>\n",
       "      <td>0.213811</td>\n",
       "    </tr>\n",
       "    <tr>\n",
       "      <th>min</th>\n",
       "      <td>-1.997419</td>\n",
       "      <td>-2.487527</td>\n",
       "      <td>-3.432473</td>\n",
       "      <td>0.000000</td>\n",
       "      <td>-0.501800</td>\n",
       "    </tr>\n",
       "    <tr>\n",
       "      <th>25%</th>\n",
       "      <td>-0.480753</td>\n",
       "      <td>-0.620860</td>\n",
       "      <td>-0.549140</td>\n",
       "      <td>0.000000</td>\n",
       "      <td>-0.141400</td>\n",
       "    </tr>\n",
       "    <tr>\n",
       "      <th>50%</th>\n",
       "      <td>-0.064086</td>\n",
       "      <td>-0.120860</td>\n",
       "      <td>0.034194</td>\n",
       "      <td>0.000000</td>\n",
       "      <td>0.043800</td>\n",
       "    </tr>\n",
       "    <tr>\n",
       "      <th>75%</th>\n",
       "      <td>0.384177</td>\n",
       "      <td>0.462473</td>\n",
       "      <td>0.567527</td>\n",
       "      <td>0.000000</td>\n",
       "      <td>0.185200</td>\n",
       "    </tr>\n",
       "    <tr>\n",
       "      <th>max</th>\n",
       "      <td>2.269247</td>\n",
       "      <td>1.979140</td>\n",
       "      <td>1.967527</td>\n",
       "      <td>1.000000</td>\n",
       "      <td>0.512400</td>\n",
       "    </tr>\n",
       "  </tbody>\n",
       "</table>\n",
       "</div>"
      ],
      "text/plain": [
       "       Nassau_slp  Charleston_slp  Meridia_slp  Hurricanes  AMO_Anomaly\n",
       "count  167.000000      167.000000   167.000000  167.000000   167.000000\n",
       "mean    -0.016699       -0.092301    -0.030850    0.179641     0.026807\n",
       "std      0.765253        0.791345     0.883350    0.385042     0.213811\n",
       "min     -1.997419       -2.487527    -3.432473    0.000000    -0.501800\n",
       "25%     -0.480753       -0.620860    -0.549140    0.000000    -0.141400\n",
       "50%     -0.064086       -0.120860     0.034194    0.000000     0.043800\n",
       "75%      0.384177        0.462473     0.567527    0.000000     0.185200\n",
       "max      2.269247        1.979140     1.967527    1.000000     0.512400"
      ]
     },
     "execution_count": 562,
     "metadata": {},
     "output_type": "execute_result"
    }
   ],
   "source": [
    "hu_slp_df = hu_slp_df.merge(amo_long_tmp, on='Year')\n",
    "hu_slp_df.describe()"
   ]
  },
  {
   "cell_type": "code",
   "execution_count": 563,
   "metadata": {},
   "outputs": [],
   "source": [
    "X2 = hu_slp_df.drop(columns=['Hurricanes'])\n",
    "y2 = hu_slp_df['Hurricanes']"
   ]
  },
  {
   "cell_type": "code",
   "execution_count": 539,
   "metadata": {},
   "outputs": [],
   "source": [
    "# X_train2, X_test2, y_train2, y_test2 = train_test_split(X2, y2, test_size=0.40, \n",
    "#                                                         shuffle=True, stratify=y2, \n",
    "#                                                         random_state=42)"
   ]
  },
  {
   "cell_type": "code",
   "execution_count": 564,
   "metadata": {},
   "outputs": [
    {
     "data": {
      "text/plain": [
       "(0.7567567567567568,\n",
       " 0.7699207828518173,\n",
       " 0.7567567567567568,\n",
       " 0.7628034814475493,\n",
       " array([[25,  5],\n",
       "        [ 4,  3]]))"
      ]
     },
     "execution_count": 564,
     "metadata": {},
     "output_type": "execute_result"
    }
   ],
   "source": [
    "# Check for consistency in the number of samples\n",
    "assert len(X2) == len(y2), \"Inconsistent number of samples between X2 and y2\"\n",
    "\n",
    "# Split the data\n",
    "X_train2, X_test2, y_train2, y_test2 = train_test_split(X2, y2, test_size=0.22, random_state=42)\n",
    "\n",
    "# Check for consistency after splitting\n",
    "assert len(X_train2) == len(y_train2), \"Inconsistent number of samples between X_train2 and y_train2\"\n",
    "assert len(X_test2) == len(y_test2), \"Inconsistent number of samples between X_test2 and y_test2\"\n",
    "\n",
    "# Initialize and train the Random Forest model\n",
    "rf_classifier = RandomForestClassifier(n_estimators=300,\n",
    "                                       class_weight='balanced', \n",
    "                                       max_depth=10,\n",
    "                                       min_samples_split=2,\n",
    "                                       min_samples_leaf=3,\n",
    "                                       max_features='sqrt')\n",
    "rf_classifier.fit(X_train2, y_train2)\n",
    "\n",
    "# Make predictions on the test set\n",
    "threshold = rf_classifier.predict_proba(X_test2)[:,1]\n",
    "y_pred_rf_classifier = (threshold >= 0.44).astype(int)\n",
    "#y_pred_rf_classifier = rf_classifier.predict(X_test2)\n",
    "\n",
    "# Evaluate the model\n",
    "accuracy = accuracy_score(y_test2, y_pred_rf_classifier)\n",
    "precision = precision_score(y_test2, y_pred_rf_classifier, average='weighted', zero_division=0)\n",
    "recall = recall_score(y_test2, y_pred_rf_classifier, average='weighted')\n",
    "f1 = f1_score(y_test2, y_pred_rf_classifier, average='weighted')\n",
    "conf_matrix = confusion_matrix(y_test2, y_pred_rf_classifier)\n",
    "\n",
    "accuracy, precision, recall, f1, conf_matrix"
   ]
  },
  {
   "cell_type": "code",
   "execution_count": 541,
   "metadata": {},
   "outputs": [],
   "source": [
    "#joblib.dump(rf_classifier, '../models/rf_model.joblib')"
   ]
  },
  {
   "cell_type": "code",
   "execution_count": 565,
   "metadata": {},
   "outputs": [
    {
     "data": {
      "image/png": "[encoded data removed]",
      "text/plain": [
       "<Figure size 1000x800 with 1 Axes>"
      ]
     },
     "metadata": {},
     "output_type": "display_data"
    }
   ],
   "source": [
    "feature_importance = pd.Series(rf_classifier.feature_importances_, index=X2.columns).sort_values(ascending=False)\n",
    "plt.figure(figsize=(10, 8))\n",
    "feature_importance.plot(kind='bar')\n",
    "plt.title('Feature Importances')\n",
    "plt.show()"
   ]
  },
  {
   "cell_type": "code",
   "execution_count": 543,
   "metadata": {},
   "outputs": [
    {
     "data": {
      "text/plain": [
       "(0.7064459930313589,\n",
       " 0.16269841269841268,\n",
       " 0.13392857142857142,\n",
       " 0.10624999999999998)"
      ]
     },
     "execution_count": 543,
     "metadata": {},
     "output_type": "execute_result"
    }
   ],
   "source": [
    "from sklearn.metrics import precision_score, make_scorer\n",
    "# Set up k-fold cross-validation\n",
    "kf = StratifiedKFold(n_splits=4, shuffle=True, random_state=40)\n",
    "precision_scorer = make_scorer(precision_score, zero_division=0)\n",
    "\n",
    "# Perform cross-validation and compute metrics\n",
    "accuracy_scores = cross_val_score(rf_classifier, X2, y2, cv=kf, scoring='accuracy')\n",
    "precision_scores = cross_val_score(rf_classifier, X2, y2, cv=kf, scoring=precision_scorer)\n",
    "recall_scores = cross_val_score(rf_classifier, X2, y2, cv=kf, scoring='recall')\n",
    "f1_scores = cross_val_score(rf_classifier, X2, y2, cv=kf, scoring='f1')\n",
    "\n",
    "# Display the metrics\n",
    "accuracy_mean = accuracy_scores.mean()\n",
    "precision_mean = precision_scores.mean()\n",
    "recall_mean = recall_scores.mean()\n",
    "f1_mean = f1_scores.mean()\n",
    "\n",
    "accuracy_mean, precision_mean, recall_mean, f1_mean"
   ]
  },
  {
   "cell_type": "code",
   "execution_count": 544,
   "metadata": {},
   "outputs": [
    {
     "data": {
      "image/png": "[encoded data removed]",
      "text/plain": [
       "<Figure size 1000x600 with 1 Axes>"
      ]
     },
     "metadata": {},
     "output_type": "display_data"
    }
   ],
   "source": [
    "from sklearn.metrics import precision_recall_curve, average_precision_score\n",
    "\n",
    "y_pred_prob = rf_classifier.predict_proba(X_test2)[:, 1]\n",
    "\n",
    "# Compute Precision-Recall curve and average precision\n",
    "precision, recall, _ = precision_recall_curve(y_test2, y_pred_prob)\n",
    "average_precision = average_precision_score(y_test2, y_pred_prob)\n",
    "\n",
    "# Plot the Precision-Recall curve\n",
    "plt.figure(figsize=(10, 6))\n",
    "plt.plot(recall, precision, color='b', lw=2, label='Precision-Recall curve (AP = %0.2f)' % average_precision)\n",
    "plt.xlabel('Recall')\n",
    "plt.ylabel('Precision')\n",
    "plt.title('Precision-Recall Curve')\n",
    "plt.legend(loc='lower left')\n",
    "plt.show()"
   ]
  }
 ],
 "metadata": {
  "kernelspec": {
   "display_name": "base",
   "language": "python",
   "name": "python3"
  },
  "language_info": {
   "codemirror_mode": {
    "name": "ipython",
    "version": 3
   },
   "file_extension": ".py",
   "mimetype": "text/x-python",
   "name": "python",
   "nbconvert_exporter": "python",
   "pygments_lexer": "ipython3",
   "version": "3.11.7"
  }
 },
 "nbformat": 4,
 "nbformat_minor": 2
}
